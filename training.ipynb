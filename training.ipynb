{
 "cells": [
  {
   "cell_type": "markdown",
   "id": "5e3c7db5",
   "metadata": {},
   "source": [
    "# Training the model"
   ]
  },
  {
   "cell_type": "code",
   "execution_count": 2,
   "id": "bab3e190",
   "metadata": {},
   "outputs": [],
   "source": [
    "import pickle\n",
    "import pandas as pd\n",
    "from my_utilities import build_full_data"
   ]
  },
  {
   "cell_type": "code",
   "execution_count": 3,
   "id": "8e396ba2",
   "metadata": {},
   "outputs": [],
   "source": [
    "# Load both the training and test data, and combine them\n",
    "with open('cleaned_data/train_data.pickle', 'rb') as f:\n",
    "    data = pickle.load(f)\n",
    "df_train = data['df']\n",
    "unique_items = data['unique_items']\n",
    "with open('cleaned_data/test_data.pickle', 'rb') as f:\n",
    "    data = pickle.load(f)\n",
    "df_test = data['df']\n",
    "df_raw = pd.concat([df_train, df_test])\n",
    "df_raw.sort_values(by='datetime', inplace=True)"
   ]
  },
  {
   "cell_type": "code",
   "execution_count": 4,
   "id": "1efa635b",
   "metadata": {},
   "outputs": [
    {
     "name": "stdout",
     "output_type": "stream",
     "text": [
      "CPU times: user 41.8 s, sys: 4.62 s, total: 46.4 s\n",
      "Wall time: 47.8 s\n"
     ]
    }
   ],
   "source": [
    "%%time\n",
    "# Build the full training data accounting for multiple first items\n",
    "X, y = build_full_data(df_raw, unique_items, max_n_first_items=10)"
   ]
  },
  {
   "cell_type": "code",
   "execution_count": 7,
   "id": "7176a4f0",
   "metadata": {},
   "outputs": [
    {
     "name": "stdout",
     "output_type": "stream",
     "text": [
      "Training LogisticRegression(C=1, max_iter=500) for each of the 3000 target columns:\n"
     ]
    },
    {
     "name": "stderr",
     "output_type": "stream",
     "text": [
      "100% (3000 of 3000) |####################| Elapsed Time: 0:05:13 Time:  0:05:13\n"
     ]
    },
    {
     "name": "stdout",
     "output_type": "stream",
     "text": [
      "CPU times: user 33min 12s, sys: 4min 46s, total: 37min 58s\n",
      "Wall time: 5min 14s\n"
     ]
    }
   ],
   "source": [
    "%%time\n",
    "# Train a logistic regression model for each potential purchase item\n",
    "from sklearn.linear_model import LogisticRegression\n",
    "from my_utilities import train_for_each_column\n",
    "from sklearn.preprocessing import MinMaxScaler\n",
    "scaler = MinMaxScaler(feature_range=(0, 1))\n",
    "model = LogisticRegression(max_iter=500, C=1)\n",
    "print(f\"Training {model} for each of the {len(y.columns)} target columns:\")\n",
    "X_scaled = scaler.fit_transform(X)\n",
    "models = train_for_each_column(model, X_scaled, y)"
   ]
  },
  {
   "cell_type": "code",
   "execution_count": 8,
   "id": "2a067087",
   "metadata": {},
   "outputs": [],
   "source": [
    "# Save the trained model (including scaler)\n",
    "data = {'scaler': scaler, 'models': models}\n",
    "with open('trained_model.pickle', 'wb') as f:\n",
    "    pickle.dump(data, f)"
   ]
  },
  {
   "cell_type": "code",
   "execution_count": 9,
   "id": "639b7094",
   "metadata": {},
   "outputs": [],
   "source": [
    "# Save also the full training data\n",
    "import gzip\n",
    "data = {'X': X, 'y': y}\n",
    "with gzip.open('full_train_data.pickle.gz', 'wb') as f:\n",
    "    pickle.dump(data, f)"
   ]
  },
  {
   "cell_type": "code",
   "execution_count": null,
   "id": "7e24a06f",
   "metadata": {},
   "outputs": [],
   "source": []
  }
 ],
 "metadata": {
  "kernelspec": {
   "display_name": "Python 3",
   "language": "python",
   "name": "python3"
  },
  "language_info": {
   "codemirror_mode": {
    "name": "ipython",
    "version": 3
   },
   "file_extension": ".py",
   "mimetype": "text/x-python",
   "name": "python",
   "nbconvert_exporter": "python",
   "pygments_lexer": "ipython3",
   "version": "3.8.8"
  }
 },
 "nbformat": 4,
 "nbformat_minor": 5
}
