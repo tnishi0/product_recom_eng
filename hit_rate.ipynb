{
 "cells": [
  {
   "cell_type": "markdown",
   "id": "baf9c544",
   "metadata": {},
   "source": [
    "# Overall hit rate of the trained model"
   ]
  },
  {
   "cell_type": "code",
   "execution_count": 57,
   "id": "85f7179d",
   "metadata": {},
   "outputs": [],
   "source": [
    "import pickle\n",
    "from my_utilities import hit_rate\n",
    "from pandarallel import pandarallel"
   ]
  },
  {
   "cell_type": "code",
   "execution_count": 58,
   "id": "569d6f87",
   "metadata": {},
   "outputs": [],
   "source": [
    "# Load the trained model (including scaler)\n",
    "with open('trained_model.pickle', 'rb') as f:\n",
    "    data = pickle.load(f)\n",
    "scaler = data['scaler']\n",
    "models = data['models']"
   ]
  },
  {
   "cell_type": "code",
   "execution_count": 59,
   "id": "5da53bd1",
   "metadata": {},
   "outputs": [
    {
     "data": {
      "text/plain": [
       "964"
      ]
     },
     "execution_count": 59,
     "metadata": {},
     "output_type": "execute_result"
    }
   ],
   "source": [
    "# Load the test data\n",
    "with open('cleaned_data/test_data.pickle', 'rb') as f:\n",
    "    data = pickle.load(f)\n",
    "df_test = data['df']\n",
    "len(df_test)"
   ]
  },
  {
   "cell_type": "code",
   "execution_count": 55,
   "id": "74852047",
   "metadata": {},
   "outputs": [
    {
     "name": "stdout",
     "output_type": "stream",
     "text": [
      "INFO: Pandarallel will run on 8 workers.\n",
      "INFO: Pandarallel will use standard multiprocessing data transfer (pipe) to transfer data between the main process and workers.\n"
     ]
    },
    {
     "data": {
      "application/vnd.jupyter.widget-view+json": {
       "model_id": "89c94b92380643c383ae6b61a888643b",
       "version_major": 2,
       "version_minor": 0
      },
      "text/plain": [
       "VBox(children=(HBox(children=(IntProgress(value=0, description='0.00%', max=121), Label(value='0 / 121'))), HB…"
      ]
     },
     "metadata": {},
     "output_type": "display_data"
    },
    {
     "name": "stdout",
     "output_type": "stream",
     "text": [
      "CPU times: user 2.09 s, sys: 474 ms, total: 2.56 s\n",
      "Wall time: 6min 6s\n"
     ]
    },
    {
     "data": {
      "text/plain": [
       "0.03630705394190872"
      ]
     },
     "execution_count": 55,
     "metadata": {},
     "output_type": "execute_result"
    }
   ],
   "source": [
    "# Compute the hit rate\n",
    "%time hit_rate(df_test, scaler, models)"
   ]
  },
  {
   "cell_type": "code",
   "execution_count": null,
   "id": "7e3be209",
   "metadata": {},
   "outputs": [],
   "source": []
  }
 ],
 "metadata": {
  "kernelspec": {
   "display_name": "Python 3",
   "language": "python",
   "name": "python3"
  },
  "language_info": {
   "codemirror_mode": {
    "name": "ipython",
    "version": 3
   },
   "file_extension": ".py",
   "mimetype": "text/x-python",
   "name": "python",
   "nbconvert_exporter": "python",
   "pygments_lexer": "ipython3",
   "version": "3.8.8"
  }
 },
 "nbformat": 4,
 "nbformat_minor": 5
}
